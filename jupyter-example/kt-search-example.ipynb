{
 "cells": [
  {
   "cell_type": "markdown",
   "id": "714f31ce",
   "metadata": {},
   "source": [
    "This should get you started with kt-search. Kt-search has it's own maven repository; which we'll add. \n",
    "\n",
    "Note that we added `-jvm` to the search-client dependency. The Kotlin kernel does not handle multi platform dependencies so we have to add the platform for this to work properly."
   ]
  },
  {
   "cell_type": "code",
   "execution_count": 7,
   "id": "c30c6f89",
   "metadata": {},
   "outputs": [],
   "source": [
    "@file:Repository(\"https://maven.tryformation.com/releases\")\n",
    "@file:DependsOn(\"com.jillesvangurp:search-client-jvm:1.99.13\")"
   ]
  },
  {
   "cell_type": "markdown",
   "id": "9ad559b7",
   "metadata": {},
   "source": [
    "Import everything in `com.jillesvangurp.ktsearch.*` and create a client."
   ]
  },
  {
   "cell_type": "code",
   "execution_count": 9,
   "id": "c3f242ec",
   "metadata": {},
   "outputs": [],
   "source": [
    "import com.jillesvangurp.ktsearch.*\n",
    "\n",
    "val client = SearchClient(\n",
    "    KtorRestClient(\n",
    "        host = \"localhost\",\n",
    "        port = 9200\n",
    "    )\n",
    ")"
   ]
  },
  {
   "cell_type": "markdown",
   "id": "65c58c4f",
   "metadata": {},
   "source": [
    "Now we're ready to start using kt-search! Make sure to import runBlocking because all kt-search interactions are suspending and require a co-routine.\n",
    "\n",
    "Of course make sure to have Elasticsearch (or Opensearch) running on port 9200. You can use docker for this or install it manually."
   ]
  },
  {
   "cell_type": "code",
   "execution_count": 10,
   "id": "32a70f61",
   "metadata": {},
   "outputs": [
    {
     "name": "stdout",
     "output_type": "stream",
     "text": [
      "ES7:7.17.5\n"
     ]
    }
   ],
   "source": [
    "import kotlinx.coroutines.runBlocking\n",
    "\n",
    "runBlocking {\n",
    "  val engineInfo = client.engineInfo()\n",
    "  println(engineInfo.variantInfo.variant.name + \":\" + engineInfo.version.number)\n",
    "}\n"
   ]
  },
  {
   "cell_type": "code",
   "execution_count": null,
   "id": "e8b711e0",
   "metadata": {},
   "outputs": [],
   "source": []
  }
 ],
 "metadata": {
  "kernelspec": {
   "display_name": "Kotlin",
   "language": "kotlin",
   "name": "kotlin"
  },
  "language_info": {
   "codemirror_mode": "text/x-kotlin",
   "file_extension": ".kt",
   "mimetype": "text/x-kotlin",
   "name": "kotlin",
   "nbconvert_exporter": "",
   "pygments_lexer": "kotlin",
   "version": "1.8.0-dev-707"
  }
 },
 "nbformat": 4,
 "nbformat_minor": 5
}
