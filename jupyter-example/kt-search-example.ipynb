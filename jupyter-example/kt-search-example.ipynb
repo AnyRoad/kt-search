{
 "cells": [
  {
   "cell_type": "markdown",
   "id": "714f31ce",
   "metadata": {},
   "source": [
    "This should get you started with kt-search. Kt-search has it's own maven repository; which we'll add. \n",
    "\n",
    "Note that we added `-jvm` to the search-client dependency. The Kotlin kernel does not handle multi platform dependencies so we have to add the platform for this to work properly."
   ]
  },
  {
   "cell_type": "code",
   "execution_count": 3,
   "id": "c30c6f89",
   "metadata": {},
   "outputs": [],
   "source": [
    "@file:Repository(\"https://jitpack.io\")\n",
    "@file:DependsOn(\"com.github.jillesvangurp.kt-search:search-client-jvm:1.99.15\")\n"
   ]
  },
  {
   "cell_type": "markdown",
   "id": "9ad559b7",
   "metadata": {},
   "source": [
    "Import everything in `com.jillesvangurp.ktsearch.*` and create a client."
   ]
  },
  {
   "cell_type": "code",
   "execution_count": 4,
   "id": "c3f242ec",
   "metadata": {},
   "outputs": [],
   "source": [
    "import com.jillesvangurp.ktsearch.*\n",
    "\n",
    "val client = SearchClient(\n",
    "    KtorRestClient(\n",
    "        host = \"localhost\",\n",
    "        port = 9200\n",
    "    )\n",
    ")"
   ]
  },
  {
   "cell_type": "markdown",
   "id": "65c58c4f",
   "metadata": {},
   "source": [
    "Now we're ready to start using kt-search! Make sure to import runBlocking because all kt-search interactions are suspending and require a co-routine.\n",
    "\n",
    "Of course make sure to have Elasticsearch (or Opensearch) running on port 9200. You can use docker for this or install it manually."
   ]
  },
  {
   "cell_type": "code",
   "execution_count": 5,
   "id": "32a70f61",
   "metadata": {},
   "outputs": [
    {
     "name": "stdout",
     "output_type": "stream",
     "text": [
      "ES8:8.3.2\n"
     ]
    }
   ],
   "source": [
    "import kotlinx.coroutines.runBlocking\n",
    "\n",
    "runBlocking {\n",
    "  val engineInfo = client.engineInfo()\n",
    "  println(engineInfo.variantInfo.variant.name + \":\" + engineInfo.version.number)\n",
    "}\n"
   ]
  },
  {
   "cell_type": "code",
   "execution_count": 6,
   "id": "6f7870b0",
   "metadata": {},
   "outputs": [
    {
     "name": "stdout",
     "output_type": "stream",
     "text": [
      "[{\"health\":\"yellow\",\"status\":\"open\",\"index\":\".ds-applogs-2022.11.30-000001\",\"uuid\":\"mDrKx4CwTwGW9_zm4XdYOg\",\"pri\":\"1\",\"rep\":\"1\",\"docs.count\":\"0\",\"docs.deleted\":\"0\",\"store.size\":\"225b\",\"pri.store.size\":\"225b\"},{\"health\":\"green\",\"status\":\"open\",\"index\":\"recipes\",\"uuid\":\"igcNcjo-QJ21okWpyIGEXQ\",\"pri\":\"1\",\"rep\":\"0\",\"docs.count\":\"11\",\"docs.deleted\":\"0\",\"store.size\":\"73.3kb\",\"pri.store.size\":\"73.3kb\"}]\n"
     ]
    }
   ],
   "source": [
    "runBlocking {\n",
    "    client.restClient.get { \n",
    "        path(\"_cat\",\"indices\")\n",
    "\n",
    "    }.getOrThrow().let { resp -> \n",
    "        println(resp.text)\n",
    "    }\n",
    "}"
   ]
  },
  {
   "cell_type": "code",
   "execution_count": 7,
   "id": "e8b711e0",
   "metadata": {},
   "outputs": [
    {
     "data": {
      "text/plain": [
       "SearchResponse(took=3, shards=Shards(total=2, successful=2, failed=0, skipped=0), timedOut=false, hits=Hits(maxScore=null, total=Total(value=0, relation=Eq), hits=[]), aggregations={}, scrollId=null, pitId=null)"
      ]
     },
     "execution_count": 7,
     "metadata": {},
     "output_type": "execute_result"
    }
   ],
   "source": [
    "import com.jillesvangurp.searchdsls.querydsl.*\n",
    "\n",
    "runBlocking {\n",
    "  client.search(\"\") {\n",
    "      query = bool { \n",
    "          should(match(\"name\", \"test\"))\n",
    "      }\n",
    "  }\n",
    "}"
   ]
  }
 ],
 "metadata": {
  "kernelspec": {
   "display_name": "Kotlin",
   "language": "kotlin",
   "name": "kotlin"
  },
  "language_info": {
   "codemirror_mode": "text/x-kotlin",
   "file_extension": ".kt",
   "mimetype": "text/x-kotlin",
   "name": "kotlin",
   "nbconvert_exporter": "",
   "pygments_lexer": "kotlin",
   "version": "1.8.0-dev-3517"
  }
 },
 "nbformat": 4,
 "nbformat_minor": 5
}
