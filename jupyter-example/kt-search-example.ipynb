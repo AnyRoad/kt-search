{
 "cells": [
  {
   "cell_type": "markdown",
   "id": "714f31ce",
   "metadata": {},
   "source": [
    "This should get you started with kt-search. Kt-search has it's own maven repository; which we'll add. \n",
    "\n",
    "Note that we added `-jvm` to the search-client dependency. The Kotlin kernel does not handle multi platform dependencies so we have to add the platform for this to work properly."
   ]
  },
  {
   "cell_type": "code",
   "execution_count": 11,
   "id": "c30c6f89",
   "metadata": {},
   "outputs": [],
   "source": [
    "@file:Repository(\"https://jitpack.io\")\n",
    "@file:DependsOn(\"com.github.jillesvangurp.kt-search:search-client:1.99.14\")"
   ]
  },
  {
   "cell_type": "markdown",
   "id": "9ad559b7",
   "metadata": {},
   "source": [
    "Import everything in `com.jillesvangurp.ktsearch.*` and create a client."
   ]
  },
  {
   "cell_type": "code",
   "execution_count": 12,
   "id": "c3f242ec",
   "metadata": {},
   "outputs": [],
   "source": [
    "import com.jillesvangurp.ktsearch.*\n",
    "\n",
    "val client = SearchClient(\n",
    "    KtorRestClient(\n",
    "        host = \"localhost\",\n",
    "        port = 9200\n",
    "    )\n",
    ")"
   ]
  },
  {
   "cell_type": "markdown",
   "id": "65c58c4f",
   "metadata": {},
   "source": [
    "Now we're ready to start using kt-search! Make sure to import runBlocking because all kt-search interactions are suspending and require a co-routine.\n",
    "\n",
    "Of course make sure to have Elasticsearch (or Opensearch) running on port 9200. You can use docker for this or install it manually."
   ]
  },
  {
   "cell_type": "code",
   "execution_count": 13,
   "id": "32a70f61",
   "metadata": {},
   "outputs": [
    {
     "name": "stdout",
     "output_type": "stream",
     "text": [
      "ES7:7.17.5\n"
     ]
    }
   ],
   "source": [
    "import kotlinx.coroutines.runBlocking\n",
    "\n",
    "runBlocking {\n",
    "  val engineInfo = client.engineInfo()\n",
    "  println(engineInfo.variantInfo.variant.name + \":\" + engineInfo.version.number)\n",
    "}\n"
   ]
  },
  {
   "cell_type": "code",
   "execution_count": 6,
   "id": "cf449b40",
   "metadata": {},
   "outputs": [
    {
     "name": "stdout",
     "output_type": "stream",
     "text": [
      "[{\"health\":\"green\",\"status\":\"open\",\"index\":\".geoip_databases\",\"uuid\":\"JFd60Bc7QSm94v5-e7ZP1A\",\"pri\":\"1\",\"rep\":\"0\",\"docs.count\":\"41\",\"docs.deleted\":\"0\",\"store.size\":\"39.3mb\",\"pri.store.size\":\"39.3mb\"},{\"health\":\"green\",\"status\":\"open\",\"index\":\".kibana_7.17.5_001\",\"uuid\":\"vWEX2urOR2y140gdtmkVEg\",\"pri\":\"1\",\"rep\":\"0\",\"docs.count\":\"20\",\"docs.deleted\":\"15\",\"store.size\":\"4.7mb\",\"pri.store.size\":\"4.7mb\"},{\"health\":\"green\",\"status\":\"open\",\"index\":\".apm-custom-link\",\"uuid\":\"WDF5Iqv6TuGSn1K6vw2mCg\",\"pri\":\"1\",\"rep\":\"0\",\"docs.count\":\"0\",\"docs.deleted\":\"0\",\"store.size\":\"226b\",\"pri.store.size\":\"226b\"},{\"health\":\"yellow\",\"status\":\"open\",\"index\":\"user-objects-enriched-2022-11-22t14-00-04\",\"uuid\":\"g2TiwRU9Sxa8bzM3gaEbRA\",\"pri\":\"1\",\"rep\":\"1\",\"docs.count\":\"0\",\"docs.deleted\":\"0\",\"store.size\":\"226b\",\"pri.store.size\":\"226b\"},{\"health\":\"yellow\",\"status\":\"open\",\"index\":\"objects-enriched-2022-11-22t14-00-04\",\"uuid\":\"jljV36HBQXKEIh21syrBqw\",\"pri\":\"1\",\"rep\":\"1\",\"docs.count\":\"0\",\"docs.deleted\":\"0\",\"store.size\":\"226b\",\"pri.store.size\":\"226b\"},{\"health\":\"green\",\"status\":\"open\",\"index\":\".apm-agent-configuration\",\"uuid\":\"rENNxdK2QwCuxjdN6_SHjw\",\"pri\":\"1\",\"rep\":\"0\",\"docs.count\":\"0\",\"docs.deleted\":\"0\",\"store.size\":\"226b\",\"pri.store.size\":\"226b\"},{\"health\":\"green\",\"status\":\"open\",\"index\":\".kibana_task_manager_7.17.5_001\",\"uuid\":\"5LEbIaLmQW2MpEy8HcVcFw\",\"pri\":\"1\",\"rep\":\"0\",\"docs.count\":\"17\",\"docs.deleted\":\"420\",\"store.size\":\"15mb\",\"pri.store.size\":\"15mb\"},{\"health\":\"green\",\"status\":\"open\",\"index\":\".tasks\",\"uuid\":\"qpSP8SDeSjS_0RMqRacdlg\",\"pri\":\"1\",\"rep\":\"0\",\"docs.count\":\"2\",\"docs.deleted\":\"0\",\"store.size\":\"13.8kb\",\"pri.store.size\":\"13.8kb\"}]\n"
     ]
    }
   ],
   "source": [
    "runBlocking {\n",
    "    client.restClient.get { \n",
    "        path(\"_cat\",\"indices\")\n",
    "        \n",
    "\n",
    "    }.getOrThrow().let { resp -> \n",
    "        println(resp.text)\n",
    "    }\n",
    "}"
   ]
  },
  {
   "cell_type": "code",
   "execution_count": 4,
   "id": "e8b711e0",
   "metadata": {},
   "outputs": [
    {
     "data": {
      "text/plain": [
       "SearchResponse(took=18, shards=Shards(total=7, successful=7, failed=0, skipped=0), timedOut=false, hits=Hits(maxScore=null, total=Total(value=0, relation=Eq), hits=[]), aggregations={}, scrollId=null, pitId=null)"
      ]
     },
     "execution_count": 4,
     "metadata": {},
     "output_type": "execute_result"
    }
   ],
   "source": [
    "import com.jillesvangurp.searchdsls.querydsl.*\n",
    "\n",
    "runBlocking {\n",
    "  client.search(\"\") {\n",
    "      query = bool { \n",
    "          should(match(\"name\", \"test\"))\n",
    "      }\n",
    "  }\n",
    "}"
   ]
  },
  {
   "cell_type": "code",
   "execution_count": null,
   "id": "0c8d6c6f",
   "metadata": {},
   "outputs": [],
   "source": []
  }
 ],
 "metadata": {
  "kernelspec": {
   "display_name": "Kotlin",
   "language": "kotlin",
   "name": "kotlin"
  },
  "language_info": {
   "codemirror_mode": "text/x-kotlin",
   "file_extension": ".kt",
   "mimetype": "text/x-kotlin",
   "name": "kotlin",
   "nbconvert_exporter": "",
   "pygments_lexer": "kotlin",
   "version": "1.8.0-dev-3517"
  }
 },
 "nbformat": 4,
 "nbformat_minor": 5
}
